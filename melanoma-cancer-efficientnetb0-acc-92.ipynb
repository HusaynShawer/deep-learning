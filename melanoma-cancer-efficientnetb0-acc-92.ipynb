{
 "cells": [
  {
   "cell_type": "code",
   "execution_count": 1,
   "id": "4b4d3193",
   "metadata": {
    "execution": {
     "iopub.execute_input": "2024-03-01T18:41:43.422626Z",
     "iopub.status.busy": "2024-03-01T18:41:43.422278Z",
     "iopub.status.idle": "2024-03-01T18:41:56.421905Z",
     "shell.execute_reply": "2024-03-01T18:41:56.420974Z"
    },
    "papermill": {
     "duration": 13.008171,
     "end_time": "2024-03-01T18:41:56.424289",
     "exception": false,
     "start_time": "2024-03-01T18:41:43.416118",
     "status": "completed"
    },
    "tags": []
   },
   "outputs": [
    {
     "name": "stderr",
     "output_type": "stream",
     "text": [
      "2024-03-01 18:41:45.355964: E external/local_xla/xla/stream_executor/cuda/cuda_dnn.cc:9261] Unable to register cuDNN factory: Attempting to register factory for plugin cuDNN when one has already been registered\n",
      "2024-03-01 18:41:45.356063: E external/local_xla/xla/stream_executor/cuda/cuda_fft.cc:607] Unable to register cuFFT factory: Attempting to register factory for plugin cuFFT when one has already been registered\n",
      "2024-03-01 18:41:45.493043: E external/local_xla/xla/stream_executor/cuda/cuda_blas.cc:1515] Unable to register cuBLAS factory: Attempting to register factory for plugin cuBLAS when one has already been registered\n"
     ]
    }
   ],
   "source": [
    "import keras\n",
    "import tensorflow as tf\n",
    "import matplotlib.pyplot as plt\n",
    "from tensorflow.keras.applications import ResNet50\n",
    "from tensorflow.keras.applications import EfficientNetB0\n",
    "from tensorflow.keras.preprocessing.image import ImageDataGenerator\n",
    "from keras.layers import Flatten,Dense"
   ]
  },
  {
   "cell_type": "code",
   "execution_count": 2,
   "id": "850f81ce",
   "metadata": {
    "execution": {
     "iopub.execute_input": "2024-03-01T18:41:56.435471Z",
     "iopub.status.busy": "2024-03-01T18:41:56.434435Z",
     "iopub.status.idle": "2024-03-01T18:41:56.439025Z",
     "shell.execute_reply": "2024-03-01T18:41:56.438150Z"
    },
    "papermill": {
     "duration": 0.011976,
     "end_time": "2024-03-01T18:41:56.441050",
     "exception": false,
     "start_time": "2024-03-01T18:41:56.429074",
     "status": "completed"
    },
    "tags": []
   },
   "outputs": [],
   "source": [
    "batch_size=32"
   ]
  },
  {
   "cell_type": "code",
   "execution_count": 3,
   "id": "05d3a432",
   "metadata": {
    "execution": {
     "iopub.execute_input": "2024-03-01T18:41:56.450885Z",
     "iopub.status.busy": "2024-03-01T18:41:56.450295Z",
     "iopub.status.idle": "2024-03-01T18:41:56.455033Z",
     "shell.execute_reply": "2024-03-01T18:41:56.454206Z"
    },
    "papermill": {
     "duration": 0.011555,
     "end_time": "2024-03-01T18:41:56.456795",
     "exception": false,
     "start_time": "2024-03-01T18:41:56.445240",
     "status": "completed"
    },
    "tags": []
   },
   "outputs": [],
   "source": [
    "train_datagen=ImageDataGenerator(\n",
    "    \n",
    "    rotation_range=30,\n",
    "    width_shift_range=0.2,\n",
    "    height_shift_range=0.2,\n",
    "    horizontal_flip=True,\n",
    "    shear_range=0.2,\n",
    "    zoom_range=0.2,\n",
    "   \n",
    "\n",
    ")\n",
    "test_datagen=ImageDataGenerator()\n"
   ]
  },
  {
   "cell_type": "code",
   "execution_count": 4,
   "id": "3b40c3f7",
   "metadata": {
    "execution": {
     "iopub.execute_input": "2024-03-01T18:41:56.466547Z",
     "iopub.status.busy": "2024-03-01T18:41:56.465869Z",
     "iopub.status.idle": "2024-03-01T18:42:07.306234Z",
     "shell.execute_reply": "2024-03-01T18:42:07.305331Z"
    },
    "papermill": {
     "duration": 10.847511,
     "end_time": "2024-03-01T18:42:07.308513",
     "exception": false,
     "start_time": "2024-03-01T18:41:56.461002",
     "status": "completed"
    },
    "tags": []
   },
   "outputs": [
    {
     "name": "stdout",
     "output_type": "stream",
     "text": [
      "Found 11879 images belonging to 2 classes.\n"
     ]
    }
   ],
   "source": [
    "train_gen=train_datagen.flow_from_directory(\n",
    "    \"/kaggle/input/melanoma-cancer-dataset/train\",\n",
    "    target_size=(224,224),\n",
    "    shuffle=False,\n",
    "    batch_size=batch_size,\n",
    "     color_mode=\"rgb\",\n",
    "    class_mode=\"binary\",\n",
    ")\n"
   ]
  },
  {
   "cell_type": "code",
   "execution_count": 5,
   "id": "67145d57",
   "metadata": {
    "execution": {
     "iopub.execute_input": "2024-03-01T18:42:07.318566Z",
     "iopub.status.busy": "2024-03-01T18:42:07.317952Z",
     "iopub.status.idle": "2024-03-01T18:42:07.740075Z",
     "shell.execute_reply": "2024-03-01T18:42:07.739089Z"
    },
    "papermill": {
     "duration": 0.429425,
     "end_time": "2024-03-01T18:42:07.742323",
     "exception": false,
     "start_time": "2024-03-01T18:42:07.312898",
     "status": "completed"
    },
    "tags": []
   },
   "outputs": [
    {
     "name": "stdout",
     "output_type": "stream",
     "text": [
      "Found 2000 images belonging to 2 classes.\n"
     ]
    }
   ],
   "source": [
    "test_gen=test_datagen.flow_from_directory(\n",
    "    \"/kaggle/input/melanoma-cancer-dataset/test\",\n",
    "    target_size=(224,224),\n",
    "    shuffle=False,\n",
    "    batch_size=batch_size,\n",
    "    color_mode=\"rgb\",\n",
    "    class_mode=\"binary\",\n",
    "    \n",
    "\n",
    ")"
   ]
  },
  {
   "cell_type": "code",
   "execution_count": 6,
   "id": "e76c4715",
   "metadata": {
    "execution": {
     "iopub.execute_input": "2024-03-01T18:42:07.752470Z",
     "iopub.status.busy": "2024-03-01T18:42:07.752147Z",
     "iopub.status.idle": "2024-03-01T18:42:11.179517Z",
     "shell.execute_reply": "2024-03-01T18:42:11.178675Z"
    },
    "papermill": {
     "duration": 3.435077,
     "end_time": "2024-03-01T18:42:11.181812",
     "exception": false,
     "start_time": "2024-03-01T18:42:07.746735",
     "status": "completed"
    },
    "tags": []
   },
   "outputs": [
    {
     "name": "stdout",
     "output_type": "stream",
     "text": [
      "Downloading data from https://storage.googleapis.com/keras-applications/efficientnetb0_notop.h5\n",
      "\u001b[1m16705208/16705208\u001b[0m \u001b[32m━━━━━━━━━━━━━━━━━━━━\u001b[0m\u001b[37m\u001b[0m \u001b[1m1s\u001b[0m 0us/step\n"
     ]
    }
   ],
   "source": [
    "base_model=EfficientNetB0(weights='imagenet',include_top=False,input_shape=(224,224,3))"
   ]
  },
  {
   "cell_type": "code",
   "execution_count": 7,
   "id": "c5256898",
   "metadata": {
    "execution": {
     "iopub.execute_input": "2024-03-01T18:42:11.196067Z",
     "iopub.status.busy": "2024-03-01T18:42:11.195320Z",
     "iopub.status.idle": "2024-03-01T18:42:11.205197Z",
     "shell.execute_reply": "2024-03-01T18:42:11.204360Z"
    },
    "papermill": {
     "duration": 0.018809,
     "end_time": "2024-03-01T18:42:11.207108",
     "exception": false,
     "start_time": "2024-03-01T18:42:11.188299",
     "status": "completed"
    },
    "tags": []
   },
   "outputs": [],
   "source": [
    "for layer in base_model.layers:\n",
    "    layer.trainable=False"
   ]
  },
  {
   "cell_type": "code",
   "execution_count": 8,
   "id": "9c9e50f6",
   "metadata": {
    "execution": {
     "iopub.execute_input": "2024-03-01T18:42:11.220330Z",
     "iopub.status.busy": "2024-03-01T18:42:11.219762Z",
     "iopub.status.idle": "2024-03-01T18:42:11.259379Z",
     "shell.execute_reply": "2024-03-01T18:42:11.258541Z"
    },
    "papermill": {
     "duration": 0.048298,
     "end_time": "2024-03-01T18:42:11.261294",
     "exception": false,
     "start_time": "2024-03-01T18:42:11.212996",
     "status": "completed"
    },
    "tags": []
   },
   "outputs": [
    {
     "data": {
      "text/html": [
       "<pre style=\"white-space:pre;overflow-x:auto;line-height:normal;font-family:Menlo,'DejaVu Sans Mono',consolas,'Courier New',monospace\"><span style=\"font-weight: bold\">Model: \"sequential\"</span>\n",
       "</pre>\n"
      ],
      "text/plain": [
       "\u001b[1mModel: \"sequential\"\u001b[0m\n"
      ]
     },
     "metadata": {},
     "output_type": "display_data"
    },
    {
     "data": {
      "text/html": [
       "<pre style=\"white-space:pre;overflow-x:auto;line-height:normal;font-family:Menlo,'DejaVu Sans Mono',consolas,'Courier New',monospace\">┏━━━━━━━━━━━━━━━━━━━━━━━━━━━━━━━━━┳━━━━━━━━━━━━━━━━━━━━━━━━┳━━━━━━━━━━━━━━━┓\n",
       "┃<span style=\"font-weight: bold\"> Layer (type)                    </span>┃<span style=\"font-weight: bold\"> Output Shape           </span>┃<span style=\"font-weight: bold\">       Param # </span>┃\n",
       "┡━━━━━━━━━━━━━━━━━━━━━━━━━━━━━━━━━╇━━━━━━━━━━━━━━━━━━━━━━━━╇━━━━━━━━━━━━━━━┩\n",
       "│ efficientnetb0 (<span style=\"color: #0087ff; text-decoration-color: #0087ff\">Functional</span>)     │ ?                      │     <span style=\"color: #00af00; text-decoration-color: #00af00\">4,049,571</span> │\n",
       "├─────────────────────────────────┼────────────────────────┼───────────────┤\n",
       "│ flatten (<span style=\"color: #0087ff; text-decoration-color: #0087ff\">Flatten</span>)               │ ?                      │   <span style=\"color: #00af00; text-decoration-color: #00af00\">0</span> (unbuilt) │\n",
       "├─────────────────────────────────┼────────────────────────┼───────────────┤\n",
       "│ dense (<span style=\"color: #0087ff; text-decoration-color: #0087ff\">Dense</span>)                   │ ?                      │   <span style=\"color: #00af00; text-decoration-color: #00af00\">0</span> (unbuilt) │\n",
       "├─────────────────────────────────┼────────────────────────┼───────────────┤\n",
       "│ dropout (<span style=\"color: #0087ff; text-decoration-color: #0087ff\">Dropout</span>)               │ ?                      │             <span style=\"color: #00af00; text-decoration-color: #00af00\">0</span> │\n",
       "├─────────────────────────────────┼────────────────────────┼───────────────┤\n",
       "│ dense_1 (<span style=\"color: #0087ff; text-decoration-color: #0087ff\">Dense</span>)                 │ ?                      │   <span style=\"color: #00af00; text-decoration-color: #00af00\">0</span> (unbuilt) │\n",
       "├─────────────────────────────────┼────────────────────────┼───────────────┤\n",
       "│ dropout_1 (<span style=\"color: #0087ff; text-decoration-color: #0087ff\">Dropout</span>)             │ ?                      │             <span style=\"color: #00af00; text-decoration-color: #00af00\">0</span> │\n",
       "├─────────────────────────────────┼────────────────────────┼───────────────┤\n",
       "│ dense_2 (<span style=\"color: #0087ff; text-decoration-color: #0087ff\">Dense</span>)                 │ ?                      │   <span style=\"color: #00af00; text-decoration-color: #00af00\">0</span> (unbuilt) │\n",
       "└─────────────────────────────────┴────────────────────────┴───────────────┘\n",
       "</pre>\n"
      ],
      "text/plain": [
       "┏━━━━━━━━━━━━━━━━━━━━━━━━━━━━━━━━━┳━━━━━━━━━━━━━━━━━━━━━━━━┳━━━━━━━━━━━━━━━┓\n",
       "┃\u001b[1m \u001b[0m\u001b[1mLayer (type)                   \u001b[0m\u001b[1m \u001b[0m┃\u001b[1m \u001b[0m\u001b[1mOutput Shape          \u001b[0m\u001b[1m \u001b[0m┃\u001b[1m \u001b[0m\u001b[1m      Param #\u001b[0m\u001b[1m \u001b[0m┃\n",
       "┡━━━━━━━━━━━━━━━━━━━━━━━━━━━━━━━━━╇━━━━━━━━━━━━━━━━━━━━━━━━╇━━━━━━━━━━━━━━━┩\n",
       "│ efficientnetb0 (\u001b[38;5;33mFunctional\u001b[0m)     │ ?                      │     \u001b[38;5;34m4,049,571\u001b[0m │\n",
       "├─────────────────────────────────┼────────────────────────┼───────────────┤\n",
       "│ flatten (\u001b[38;5;33mFlatten\u001b[0m)               │ ?                      │   \u001b[38;5;34m0\u001b[0m (unbuilt) │\n",
       "├─────────────────────────────────┼────────────────────────┼───────────────┤\n",
       "│ dense (\u001b[38;5;33mDense\u001b[0m)                   │ ?                      │   \u001b[38;5;34m0\u001b[0m (unbuilt) │\n",
       "├─────────────────────────────────┼────────────────────────┼───────────────┤\n",
       "│ dropout (\u001b[38;5;33mDropout\u001b[0m)               │ ?                      │             \u001b[38;5;34m0\u001b[0m │\n",
       "├─────────────────────────────────┼────────────────────────┼───────────────┤\n",
       "│ dense_1 (\u001b[38;5;33mDense\u001b[0m)                 │ ?                      │   \u001b[38;5;34m0\u001b[0m (unbuilt) │\n",
       "├─────────────────────────────────┼────────────────────────┼───────────────┤\n",
       "│ dropout_1 (\u001b[38;5;33mDropout\u001b[0m)             │ ?                      │             \u001b[38;5;34m0\u001b[0m │\n",
       "├─────────────────────────────────┼────────────────────────┼───────────────┤\n",
       "│ dense_2 (\u001b[38;5;33mDense\u001b[0m)                 │ ?                      │   \u001b[38;5;34m0\u001b[0m (unbuilt) │\n",
       "└─────────────────────────────────┴────────────────────────┴───────────────┘\n"
      ]
     },
     "metadata": {},
     "output_type": "display_data"
    },
    {
     "data": {
      "text/html": [
       "<pre style=\"white-space:pre;overflow-x:auto;line-height:normal;font-family:Menlo,'DejaVu Sans Mono',consolas,'Courier New',monospace\"><span style=\"font-weight: bold\"> Total params: </span><span style=\"color: #00af00; text-decoration-color: #00af00\">4,049,571</span> (15.45 MB)\n",
       "</pre>\n"
      ],
      "text/plain": [
       "\u001b[1m Total params: \u001b[0m\u001b[38;5;34m4,049,571\u001b[0m (15.45 MB)\n"
      ]
     },
     "metadata": {},
     "output_type": "display_data"
    },
    {
     "data": {
      "text/html": [
       "<pre style=\"white-space:pre;overflow-x:auto;line-height:normal;font-family:Menlo,'DejaVu Sans Mono',consolas,'Courier New',monospace\"><span style=\"font-weight: bold\"> Trainable params: </span><span style=\"color: #00af00; text-decoration-color: #00af00\">0</span> (0.00 B)\n",
       "</pre>\n"
      ],
      "text/plain": [
       "\u001b[1m Trainable params: \u001b[0m\u001b[38;5;34m0\u001b[0m (0.00 B)\n"
      ]
     },
     "metadata": {},
     "output_type": "display_data"
    },
    {
     "data": {
      "text/html": [
       "<pre style=\"white-space:pre;overflow-x:auto;line-height:normal;font-family:Menlo,'DejaVu Sans Mono',consolas,'Courier New',monospace\"><span style=\"font-weight: bold\"> Non-trainable params: </span><span style=\"color: #00af00; text-decoration-color: #00af00\">4,049,571</span> (15.45 MB)\n",
       "</pre>\n"
      ],
      "text/plain": [
       "\u001b[1m Non-trainable params: \u001b[0m\u001b[38;5;34m4,049,571\u001b[0m (15.45 MB)\n"
      ]
     },
     "metadata": {},
     "output_type": "display_data"
    }
   ],
   "source": [
    "model = keras.Sequential([\n",
    "    base_model,\n",
    "    keras.layers.Flatten(),\n",
    "    keras.layers.Dense(256, activation='relu'),\n",
    "    keras.layers.Dropout(0.5),\n",
    "    keras.layers.Dense(128, activation='relu'),\n",
    "    keras.layers.Dropout(0.3),\n",
    "    keras.layers.Dense(1, activation='sigmoid')\n",
    "])\n",
    "model.summary()"
   ]
  },
  {
   "cell_type": "code",
   "execution_count": 9,
   "id": "bf58dc7f",
   "metadata": {
    "execution": {
     "iopub.execute_input": "2024-03-01T18:42:11.275737Z",
     "iopub.status.busy": "2024-03-01T18:42:11.275188Z",
     "iopub.status.idle": "2024-03-01T18:42:11.304105Z",
     "shell.execute_reply": "2024-03-01T18:42:11.303131Z"
    },
    "papermill": {
     "duration": 0.038348,
     "end_time": "2024-03-01T18:42:11.306225",
     "exception": false,
     "start_time": "2024-03-01T18:42:11.267877",
     "status": "completed"
    },
    "tags": []
   },
   "outputs": [],
   "source": [
    "METRICS = [\n",
    "    keras.metrics.BinaryAccuracy(name=\"accuracy\"),\n",
    "    keras.metrics.Precision(name=\"precision\"),\n",
    "    keras.metrics.Recall(name=\"recall\"),\n",
    "    keras.metrics.AUC(name=\"auc\"),\n",
    "]\n",
    "\n",
    "model.compile(\n",
    "    optimizer=keras.optimizers.Adam(learning_rate=0.001),\n",
    "    loss=[keras.losses.BinaryCrossentropy(from_logits=False)],\n",
    "    metrics=METRICS,\n",
    ")"
   ]
  },
  {
   "cell_type": "code",
   "execution_count": 10,
   "id": "452de69f",
   "metadata": {
    "execution": {
     "iopub.execute_input": "2024-03-01T18:42:11.322036Z",
     "iopub.status.busy": "2024-03-01T18:42:11.321684Z",
     "iopub.status.idle": "2024-03-01T18:53:23.565805Z",
     "shell.execute_reply": "2024-03-01T18:53:23.564809Z"
    },
    "papermill": {
     "duration": 672.254077,
     "end_time": "2024-03-01T18:53:23.567919",
     "exception": false,
     "start_time": "2024-03-01T18:42:11.313842",
     "status": "completed"
    },
    "tags": []
   },
   "outputs": [
    {
     "name": "stdout",
     "output_type": "stream",
     "text": [
      "Epoch 1/5\n"
     ]
    },
    {
     "name": "stderr",
     "output_type": "stream",
     "text": [
      "/opt/conda/lib/python3.10/site-packages/keras/src/trainers/data_adapters/py_dataset_adapter.py:122: UserWarning: Your `PyDataset` class should call `super().__init__(**kwargs)` in its constructor. `**kwargs` can include `workers`, `use_multiprocessing`, `max_queue_size`. Do not pass these arguments to `fit()`, as they will be ignored.\n",
      "  self._warn_if_super_not_called()\n"
     ]
    },
    {
     "name": "stdout",
     "output_type": "stream",
     "text": [
      "\u001b[1m  2/371\u001b[0m \u001b[37m━━━━━━━━━━━━━━━━━━━━\u001b[0m \u001b[1m23s\u001b[0m 62ms/step - accuracy: 0.4453 - auc: 0.0000e+00 - loss: 9.9789 - precision: 0.0000e+00 - recall: 0.0000e+00   "
     ]
    },
    {
     "name": "stderr",
     "output_type": "stream",
     "text": [
      "WARNING: All log messages before absl::InitializeLog() is called are written to STDERR\n",
      "I0000 00:00:1709318579.828010      88 device_compiler.h:186] Compiled cluster using XLA!  This line is logged at most once for the lifetime of the process.\n",
      "W0000 00:00:1709318579.885682      88 graph_launch.cc:671] Fallback to op-by-op mode because memset node breaks graph update\n"
     ]
    },
    {
     "name": "stdout",
     "output_type": "stream",
     "text": [
      "\u001b[1m259/371\u001b[0m \u001b[32m━━━━━━━━━━━━━\u001b[0m\u001b[37m━━━━━━━\u001b[0m \u001b[1m1:21\u001b[0m 728ms/step - accuracy: 0.6647 - auc: 0.6958 - loss: 2.3879 - precision: 0.6367 - recall: 0.5858"
     ]
    },
    {
     "name": "stderr",
     "output_type": "stream",
     "text": [
      "W0000 00:00:1709318767.582309      91 graph_launch.cc:671] Fallback to op-by-op mode because memset node breaks graph update\n"
     ]
    },
    {
     "name": "stdout",
     "output_type": "stream",
     "text": [
      "\u001b[1m370/371\u001b[0m \u001b[32m━━━━━━━━━━━━━━━━━━━\u001b[0m\u001b[37m━\u001b[0m \u001b[1m0s\u001b[0m 693ms/step - accuracy: 0.6733 - auc: 0.7144 - loss: 1.9822 - precision: 0.6612 - recall: 0.5797"
     ]
    },
    {
     "name": "stderr",
     "output_type": "stream",
     "text": [
      "W0000 00:00:1709318842.575365      90 graph_launch.cc:671] Fallback to op-by-op mode because memset node breaks graph update\n"
     ]
    },
    {
     "name": "stdout",
     "output_type": "stream",
     "text": [
      "\u001b[1m371/371\u001b[0m \u001b[32m━━━━━━━━━━━━━━━━━━━━\u001b[0m\u001b[37m\u001b[0m \u001b[1m334s\u001b[0m 772ms/step - accuracy: 0.6734 - auc: 0.7146 - loss: 1.9767 - precision: 0.6616 - recall: 0.5796 - val_accuracy: 0.8170 - val_auc: 0.9409 - val_loss: 0.3661 - val_precision: 0.9215 - val_recall: 0.6930\n",
      "Epoch 2/5\n",
      "\u001b[1m  1/371\u001b[0m \u001b[37m━━━━━━━━━━━━━━━━━━━━\u001b[0m \u001b[1m20s\u001b[0m 54ms/step - accuracy: 0.8750 - auc: 0.0000e+00 - loss: 0.8839 - precision: 0.0000e+00 - recall: 0.0000e+00"
     ]
    },
    {
     "name": "stderr",
     "output_type": "stream",
     "text": [
      "W0000 00:00:1709318865.581286      90 graph_launch.cc:671] Fallback to op-by-op mode because memset node breaks graph update\n",
      "/opt/conda/lib/python3.10/contextlib.py:153: UserWarning: Your input ran out of data; interrupting training. Make sure that your dataset or generator can generate at least `steps_per_epoch * epochs` batches. You may need to use the `.repeat()` function when building your dataset.\n",
      "  self.gen.throw(typ, value, traceback)\n"
     ]
    },
    {
     "name": "stdout",
     "output_type": "stream",
     "text": [
      "\u001b[1m371/371\u001b[0m \u001b[32m━━━━━━━━━━━━━━━━━━━━\u001b[0m\u001b[37m\u001b[0m \u001b[1m3s\u001b[0m 9ms/step - accuracy: 0.8750 - auc: 0.0000e+00 - loss: 0.8839 - precision: 0.0000e+00 - recall: 0.0000e+00 - val_accuracy: 0.8085 - val_auc: 0.9400 - val_loss: 0.3720 - val_precision: 0.9255 - val_recall: 0.6710\n",
      "Epoch 3/5\n",
      "\u001b[1m371/371\u001b[0m \u001b[32m━━━━━━━━━━━━━━━━━━━━\u001b[0m\u001b[37m\u001b[0m \u001b[1m165s\u001b[0m 436ms/step - accuracy: 0.7351 - auc: 0.7852 - loss: 0.5578 - precision: 0.8568 - recall: 0.4996 - val_accuracy: 0.7245 - val_auc: 0.8140 - val_loss: 0.5251 - val_precision: 0.9228 - val_recall: 0.4900\n",
      "Epoch 4/5\n",
      "\u001b[1m371/371\u001b[0m \u001b[32m━━━━━━━━━━━━━━━━━━━━\u001b[0m\u001b[37m\u001b[0m \u001b[1m3s\u001b[0m 9ms/step - accuracy: 0.9062 - auc: 0.0000e+00 - loss: 1.1446 - precision: 0.0000e+00 - recall: 0.0000e+00 - val_accuracy: 0.7275 - val_auc: 0.8138 - val_loss: 0.5247 - val_precision: 0.9252 - val_recall: 0.4950\n",
      "Epoch 5/5\n",
      "\u001b[1m371/371\u001b[0m \u001b[32m━━━━━━━━━━━━━━━━━━━━\u001b[0m\u001b[37m\u001b[0m \u001b[1m166s\u001b[0m 440ms/step - accuracy: 0.7574 - auc: 0.8174 - loss: 0.5282 - precision: 0.8895 - recall: 0.5555 - val_accuracy: 0.7240 - val_auc: 0.9188 - val_loss: 0.4206 - val_precision: 0.9375 - val_recall: 0.4800\n"
     ]
    },
    {
     "data": {
      "text/plain": [
       "<keras.src.callbacks.history.History at 0x7f9f40140910>"
      ]
     },
     "execution_count": 10,
     "metadata": {},
     "output_type": "execute_result"
    }
   ],
   "source": [
    "model.fit(train_gen,epochs=5,steps_per_epoch=len(train_gen.classes)//batch_size,validation_data=test_gen)"
   ]
  },
  {
   "cell_type": "code",
   "execution_count": 11,
   "id": "113ea0a8",
   "metadata": {
    "execution": {
     "iopub.execute_input": "2024-03-01T18:53:23.773886Z",
     "iopub.status.busy": "2024-03-01T18:53:23.773122Z",
     "iopub.status.idle": "2024-03-01T18:53:46.589203Z",
     "shell.execute_reply": "2024-03-01T18:53:46.588170Z"
    },
    "papermill": {
     "duration": 22.92287,
     "end_time": "2024-03-01T18:53:46.591634",
     "exception": false,
     "start_time": "2024-03-01T18:53:23.668764",
     "status": "completed"
    },
    "tags": []
   },
   "outputs": [
    {
     "name": "stdout",
     "output_type": "stream",
     "text": [
      "\u001b[1m 5/63\u001b[0m \u001b[32m━\u001b[0m\u001b[37m━━━━━━━━━━━━━━━━━━━\u001b[0m \u001b[1m2s\u001b[0m 44ms/step"
     ]
    },
    {
     "name": "stderr",
     "output_type": "stream",
     "text": [
      "W0000 00:00:1709319213.661523      88 graph_launch.cc:671] Fallback to op-by-op mode because memset node breaks graph update\n"
     ]
    },
    {
     "name": "stdout",
     "output_type": "stream",
     "text": [
      "\u001b[1m63/63\u001b[0m \u001b[32m━━━━━━━━━━━━━━━━━━━━\u001b[0m\u001b[37m\u001b[0m \u001b[1m15s\u001b[0m 148ms/step\n"
     ]
    },
    {
     "name": "stderr",
     "output_type": "stream",
     "text": [
      "W0000 00:00:1709319222.843522      91 graph_launch.cc:671] Fallback to op-by-op mode because memset node breaks graph update\n"
     ]
    },
    {
     "data": {
      "image/png": "[encoded data removed]",
      "text/plain": [
       "<Figure size 640x480 with 1 Axes>"
      ]
     },
     "metadata": {},
     "output_type": "display_data"
    },
    {
     "name": "stdout",
     "output_type": "stream",
     "text": [
      "63/63 - 3s - 53ms/step - accuracy: 0.7240 - auc: 0.9188 - loss: 0.4206 - precision: 0.9375 - recall: 0.4800\n"
     ]
    },
    {
     "data": {
      "text/plain": [
       "[0.420556902885437,\n",
       " 0.7239999771118164,\n",
       " 0.9188253879547119,\n",
       " 0.9375,\n",
       " 0.47999998927116394]"
      ]
     },
     "execution_count": 11,
     "metadata": {},
     "output_type": "execute_result"
    }
   ],
   "source": [
    "import numpy as np\n",
    "import math\n",
    "from sklearn.metrics import roc_curve\n",
    "def plot_roc(labels, data):\n",
    "    predictions = model.predict(data)\n",
    "    fp, tp, _ = roc_curve(labels, predictions)\n",
    "\n",
    "    plt.plot(100 * fp, 100 * tp)\n",
    "    plt.xlabel(\"False positives [%]\")\n",
    "    plt.ylabel(\"True positives [%]\")\n",
    "    plt.show()\n",
    "\n",
    "\n",
    "test_labels = np.array([])\n",
    "num_batches = 0\n",
    "\n",
    "for _, y in test_gen:\n",
    "    test_labels = np.append(test_labels, y)\n",
    "    num_batches += 1\n",
    "    if num_batches == math.ceil(len(test_gen.classes) / batch_size):\n",
    "        break\n",
    "\n",
    "plot_roc(test_labels, test_gen)\n",
    "model.evaluate(test_gen, verbose=2)"
   ]
  },
  {
   "cell_type": "code",
   "execution_count": null,
   "id": "49e405dc",
   "metadata": {
    "papermill": {
     "duration": 0.104903,
     "end_time": "2024-03-01T18:53:46.800676",
     "exception": false,
     "start_time": "2024-03-01T18:53:46.695773",
     "status": "completed"
    },
    "tags": []
   },
   "outputs": [],
   "source": []
  }
 ],
 "metadata": {
  "kaggle": {
   "accelerator": "nvidiaTeslaT4",
   "dataSources": [
    {
     "datasetId": 4459076,
     "sourceId": 7649273,
     "sourceType": "datasetVersion"
    }
   ],
   "dockerImageVersionId": 30665,
   "isGpuEnabled": true,
   "isInternetEnabled": true,
   "language": "python",
   "sourceType": "notebook"
  },
  "kernelspec": {
   "display_name": "Python 3",
   "language": "python",
   "name": "python3"
  },
  "language_info": {
   "codemirror_mode": {
    "name": "ipython",
    "version": 3
   },
   "file_extension": ".py",
   "mimetype": "text/x-python",
   "name": "python",
   "nbconvert_exporter": "python",
   "pygments_lexer": "ipython3",
   "version": "3.10.13"
  },
  "papermill": {
   "default_parameters": {},
   "duration": 729.520915,
   "end_time": "2024-03-01T18:53:50.057706",
   "environment_variables": {},
   "exception": null,
   "input_path": "__notebook__.ipynb",
   "output_path": "__notebook__.ipynb",
   "parameters": {},
   "start_time": "2024-03-01T18:41:40.536791",
   "version": "2.5.0"
  }
 },
 "nbformat": 4,
 "nbformat_minor": 5
}
