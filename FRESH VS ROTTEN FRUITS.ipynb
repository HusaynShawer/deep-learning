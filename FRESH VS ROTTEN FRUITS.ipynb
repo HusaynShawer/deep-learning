{
 "cells": [
  {
   "cell_type": "code",
   "execution_count": 1,
   "id": "cea00162",
   "metadata": {},
   "outputs": [],
   "source": [
    "fresh_peaches = 'D:\\\\Fruits\\\\fresh_peaches_done'\n",
    "rotten_peaches = 'D:\\\\Fruits\\\\rotten_peaches_done'"
   ]
  },
  {
   "cell_type": "code",
   "execution_count": 2,
   "id": "d99f11b0",
   "metadata": {},
   "outputs": [],
   "source": [
    "import os\n",
    "#os.listdir(rotten_peaches)"
   ]
  },
  {
   "cell_type": "code",
   "execution_count": 3,
   "id": "71dadce0",
   "metadata": {},
   "outputs": [
    {
     "name": "stdout",
     "output_type": "stream",
     "text": [
      "[[255 255 254 ... 255 255 255]\n",
      " [255 255 253 ... 255 255 255]\n",
      " [255 252 251 ... 255 255 255]\n",
      " ...\n",
      " [244 130 254 ... 253 254 255]\n",
      " [253 245 253 ... 254 255 255]\n",
      " [255 255 255 ... 255 255 255]]\n"
     ]
    }
   ],
   "source": [
    "import cv2\n",
    "im = cv2.imread(os.path.join(rotten_peaches,'rotten_peach_1.jpg'))\n",
    "im = cv2.cvtColor(im , cv2.COLOR_BGR2GRAY)\n",
    "im = cv2.resize(im , (80,80))\n",
    "print(im)"
   ]
  },
  {
   "cell_type": "code",
   "execution_count": 30,
   "id": "f2332166",
   "metadata": {},
   "outputs": [
    {
     "data": {
      "text/plain": [
       "(80, 80)"
      ]
     },
     "execution_count": 30,
     "metadata": {},
     "output_type": "execute_result"
    }
   ],
   "source": [
    "im.shape"
   ]
  },
  {
   "cell_type": "code",
   "execution_count": 31,
   "id": "9bb453cb",
   "metadata": {},
   "outputs": [
    {
     "data": {
      "text/plain": [
       "<matplotlib.image.AxesImage at 0x17f43359070>"
      ]
     },
     "execution_count": 31,
     "metadata": {},
     "output_type": "execute_result"
    },
    {
     "data": {
      "image/png": "[encoded data removed]",
      "text/plain": [
       "<Figure size 640x480 with 1 Axes>"
      ]
     },
     "metadata": {},
     "output_type": "display_data"
    }
   ],
   "source": [
    "import matplotlib.pyplot as plt\n",
    "plt.imshow(im,cmap='gray')"
   ]
  },
  {
   "cell_type": "code",
   "execution_count": 44,
   "id": "064e9272",
   "metadata": {},
   "outputs": [],
   "source": [
    "features = []\n",
    "labels=[]\n",
    "for img in os.listdir(fresh_peaches):\n",
    "    img_path = os.path.join(fresh_peaches , img)\n",
    "    im = cv2.imread(img_path)\n",
    "    im = cv2.cvtColor(im , cv2.COLOR_BGR2GRAY)\n",
    "    im = cv2.resize(im , (80,80))\n",
    "    features.append(im)\n",
    "    labels.append(0)\n"
   ]
  },
  {
   "cell_type": "code",
   "execution_count": 45,
   "id": "865f8053",
   "metadata": {},
   "outputs": [],
   "source": [
    "for img in os.listdir(rotten_peaches):\n",
    "        img_path = os.path.join(rotten_peaches , img)\n",
    "        im=cv2.imread(img_path)\n",
    "        im=cv2.cvtColor(im , cv2.COLOR_BGR2GRAY)\n",
    "        im=cv2.resize(im , (80,80))\n",
    "        features.append(im)\n",
    "        labels.append(1) "
   ]
  },
  {
   "cell_type": "code",
   "execution_count": 46,
   "id": "c138fa51",
   "metadata": {},
   "outputs": [
    {
     "data": {
      "text/plain": [
       "(593, 80, 80)"
      ]
     },
     "execution_count": 46,
     "metadata": {},
     "output_type": "execute_result"
    }
   ],
   "source": [
    "import numpy as np\n",
    "features = np.array(features)\n",
    "features.shape"
   ]
  },
  {
   "cell_type": "code",
   "execution_count": 47,
   "id": "7f4795e4",
   "metadata": {},
   "outputs": [
    {
     "data": {
      "text/plain": [
       "(593, 6400)"
      ]
     },
     "execution_count": 47,
     "metadata": {},
     "output_type": "execute_result"
    }
   ],
   "source": [
    "features=features.reshape(593,(80*80))\n",
    "features.shape"
   ]
  },
  {
   "cell_type": "code",
   "execution_count": 48,
   "id": "c215bb27",
   "metadata": {},
   "outputs": [
    {
     "data": {
      "text/plain": [
       "(593,)"
      ]
     },
     "execution_count": 48,
     "metadata": {},
     "output_type": "execute_result"
    }
   ],
   "source": [
    "labels = np.array(labels)\n",
    "labels.shape"
   ]
  },
  {
   "cell_type": "code",
   "execution_count": 49,
   "id": "cb484267",
   "metadata": {},
   "outputs": [],
   "source": [
    "X=features\n",
    "Y=labels"
   ]
  },
  {
   "cell_type": "code",
   "execution_count": 50,
   "id": "ca7d084b",
   "metadata": {},
   "outputs": [
    {
     "data": {
      "text/plain": [
       "array([[1., 0.],\n",
       "       [1., 0.],\n",
       "       [1., 0.],\n",
       "       ...,\n",
       "       [0., 1.],\n",
       "       [0., 1.],\n",
       "       [0., 1.]], dtype=float32)"
      ]
     },
     "execution_count": 50,
     "metadata": {},
     "output_type": "execute_result"
    }
   ],
   "source": [
    "from keras.utils import to_categorical\n",
    "Y = to_categorical(Y)\n",
    "Y"
   ]
  },
  {
   "cell_type": "code",
   "execution_count": 51,
   "id": "68b2641a",
   "metadata": {},
   "outputs": [],
   "source": [
    "from sklearn.model_selection import train_test_split\n",
    "xtrain,xtest,ytrain,ytest = train_test_split(X,Y)"
   ]
  },
  {
   "cell_type": "code",
   "execution_count": 52,
   "id": "4b9dd9b9",
   "metadata": {},
   "outputs": [
    {
     "data": {
      "text/plain": [
       "(444, 6400)"
      ]
     },
     "execution_count": 52,
     "metadata": {},
     "output_type": "execute_result"
    }
   ],
   "source": [
    "xtrain=xtrain/255\n",
    "xtest=xtest/255\n",
    "xtrain.shape"
   ]
  },
  {
   "cell_type": "code",
   "execution_count": 53,
   "id": "bf98e54e",
   "metadata": {},
   "outputs": [],
   "source": [
    "from keras.models import Sequential\n",
    "from keras import layers"
   ]
  },
  {
   "cell_type": "code",
   "execution_count": 54,
   "id": "fb25c390",
   "metadata": {},
   "outputs": [],
   "source": [
    "model=Sequential([\n",
    "    layers.Dense(64,input_dim=6400,activation='relu'),\n",
    "    #layers.BatchNormalization(2),\n",
    "    layers.Flatten(),\n",
    "    layers.Dense(2,activation='sigmoid'),\n",
    "    \n",
    "])"
   ]
  },
  {
   "cell_type": "code",
   "execution_count": 55,
   "id": "bca33efc",
   "metadata": {},
   "outputs": [],
   "source": [
    "model.compile(loss = 'binary_crossentropy' , optimizer='adam' , metrics = ['accuracy'])"
   ]
  },
  {
   "cell_type": "code",
   "execution_count": 56,
   "id": "ed9140ed",
   "metadata": {},
   "outputs": [
    {
     "name": "stdout",
     "output_type": "stream",
     "text": [
      "Epoch 1/10\n",
      "23/23 [==============================] - 1s 31ms/step - loss: 1.2843 - accuracy: 0.5203 - val_loss: 0.6838 - val_accuracy: 0.7047\n",
      "Epoch 2/10\n",
      "23/23 [==============================] - 0s 18ms/step - loss: 0.7045 - accuracy: 0.6149 - val_loss: 0.7761 - val_accuracy: 0.6980\n",
      "Epoch 3/10\n",
      "23/23 [==============================] - 1s 42ms/step - loss: 0.6349 - accuracy: 0.6464 - val_loss: 0.6263 - val_accuracy: 0.7047\n",
      "Epoch 4/10\n",
      "23/23 [==============================] - 1s 34ms/step - loss: 0.6218 - accuracy: 0.6554 - val_loss: 0.5901 - val_accuracy: 0.6913\n",
      "Epoch 5/10\n",
      "23/23 [==============================] - 1s 29ms/step - loss: 0.6144 - accuracy: 0.6892 - val_loss: 0.5979 - val_accuracy: 0.6644\n",
      "Epoch 6/10\n",
      "23/23 [==============================] - 1s 41ms/step - loss: 0.5956 - accuracy: 0.6712 - val_loss: 0.6459 - val_accuracy: 0.6644\n",
      "Epoch 7/10\n",
      "23/23 [==============================] - 1s 34ms/step - loss: 0.6761 - accuracy: 0.6059 - val_loss: 0.6919 - val_accuracy: 0.6242\n",
      "Epoch 8/10\n",
      "23/23 [==============================] - 1s 31ms/step - loss: 0.6205 - accuracy: 0.6734 - val_loss: 0.6445 - val_accuracy: 0.6510\n",
      "Epoch 9/10\n",
      "23/23 [==============================] - 1s 35ms/step - loss: 0.6088 - accuracy: 0.6599 - val_loss: 0.6401 - val_accuracy: 0.6846\n",
      "Epoch 10/10\n",
      "23/23 [==============================] - 0s 12ms/step - loss: 0.5868 - accuracy: 0.7072 - val_loss: 0.5756 - val_accuracy: 0.6711\n"
     ]
    },
    {
     "data": {
      "text/plain": [
       "<keras.callbacks.History at 0x17f371c8c40>"
      ]
     },
     "execution_count": 56,
     "metadata": {},
     "output_type": "execute_result"
    }
   ],
   "source": [
    "model.fit(xtrain,ytrain,epochs=10 ,batch_size = 20 , validation_data = (xtest,ytest))"
   ]
  },
  {
   "cell_type": "code",
   "execution_count": 57,
   "id": "ed934692",
   "metadata": {},
   "outputs": [
    {
     "name": "stdout",
     "output_type": "stream",
     "text": [
      "5/5 [==============================] - 0s 3ms/step\n"
     ]
    }
   ],
   "source": [
    "predict=model.predict(xtest)"
   ]
  },
  {
   "cell_type": "code",
   "execution_count": 90,
   "id": "64343d2a",
   "metadata": {},
   "outputs": [],
   "source": [
    "def check(x):\n",
    "    if predict[x][0]>predict[x][1]:\n",
    "        return 'FRESH'\n",
    "    else:\n",
    "        return 'ROTTEN'"
   ]
  },
  {
   "cell_type": "code",
   "execution_count": 103,
   "id": "6d52364a",
   "metadata": {},
   "outputs": [
    {
     "name": "stdout",
     "output_type": "stream",
     "text": [
      "FRESH\n"
     ]
    }
   ],
   "source": [
    "print(check(2))"
   ]
  },
  {
   "cell_type": "code",
   "execution_count": 104,
   "id": "0c7ca4a4",
   "metadata": {},
   "outputs": [
    {
     "data": {
      "text/plain": [
       "array([1., 0.], dtype=float32)"
      ]
     },
     "execution_count": 104,
     "metadata": {},
     "output_type": "execute_result"
    }
   ],
   "source": [
    "ytest[2]"
   ]
  },
  {
   "cell_type": "code",
   "execution_count": 105,
   "id": "34ff786c",
   "metadata": {},
   "outputs": [
    {
     "data": {
      "text/plain": [
       "<matplotlib.image.AxesImage at 0x17f502c99d0>"
      ]
     },
     "execution_count": 105,
     "metadata": {},
     "output_type": "execute_result"
    },
    {
     "data": {
      "image/png": "[encoded data removed]",
      "text/plain": [
       "<Figure size 640x480 with 1 Axes>"
      ]
     },
     "metadata": {},
     "output_type": "display_data"
    }
   ],
   "source": [
    "plt.imshow(xtest[2].reshape(80,80),cmap='gray')"
   ]
  },
  {
   "cell_type": "code",
   "execution_count": 106,
   "id": "b824b26c",
   "metadata": {},
   "outputs": [
    {
     "name": "stdout",
     "output_type": "stream",
     "text": [
      "ROTTEN\n"
     ]
    }
   ],
   "source": [
    "print(check(112))"
   ]
  },
  {
   "cell_type": "code",
   "execution_count": 107,
   "id": "0005fdaa",
   "metadata": {},
   "outputs": [
    {
     "data": {
      "text/plain": [
       "<matplotlib.image.AxesImage at 0x17f4f6c0d30>"
      ]
     },
     "execution_count": 107,
     "metadata": {},
     "output_type": "execute_result"
    },
    {
     "data": {
      "image/png": "[encoded data removed]",
      "text/plain": [
       "<Figure size 640x480 with 1 Axes>"
      ]
     },
     "metadata": {},
     "output_type": "display_data"
    }
   ],
   "source": [
    "plt.imshow(xtest[112].reshape(80,80),cmap='gray')"
   ]
  },
  {
   "cell_type": "code",
   "execution_count": 108,
   "id": "80eca84c",
   "metadata": {},
   "outputs": [
    {
     "name": "stdout",
     "output_type": "stream",
     "text": [
      "INFO:tensorflow:Assets written to: fresh,rotten\\assets\n"
     ]
    }
   ],
   "source": [
    "model.save('fresh,rotten')"
   ]
  },
  {
   "cell_type": "code",
   "execution_count": 110,
   "id": "2158f330",
   "metadata": {},
   "outputs": [],
   "source": [
    "import keras\n",
    "x=keras.models.load_model('fresh,rotten')"
   ]
  },
  {
   "cell_type": "code",
   "execution_count": 113,
   "id": "869bad14",
   "metadata": {},
   "outputs": [
    {
     "name": "stdout",
     "output_type": "stream",
     "text": [
      "14/14 [==============================] - 1s 34ms/step - loss: 0.8158 - accuracy: 0.6104\n"
     ]
    },
    {
     "data": {
      "text/plain": [
       "<keras.callbacks.History at 0x17f4d418b50>"
      ]
     },
     "execution_count": 113,
     "metadata": {},
     "output_type": "execute_result"
    }
   ],
   "source": [
    "x.fit(xtrain,ytrain,epochs=1)"
   ]
  }
 ],
 "metadata": {
  "kernelspec": {
   "display_name": "Python 3 (ipykernel)",
   "language": "python",
   "name": "python3"
  },
  "language_info": {
   "codemirror_mode": {
    "name": "ipython",
    "version": 3
   },
   "file_extension": ".py",
   "mimetype": "text/x-python",
   "name": "python",
   "nbconvert_exporter": "python",
   "pygments_lexer": "ipython3",
   "version": "3.9.12"
  }
 },
 "nbformat": 4,
 "nbformat_minor": 5
}
