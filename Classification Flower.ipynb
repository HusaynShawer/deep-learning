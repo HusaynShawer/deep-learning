{
 "cells": [
  {
   "cell_type": "code",
   "execution_count": 19,
   "id": "359a17c0",
   "metadata": {},
   "outputs": [],
   "source": [
    "import os ,keras,pandas\n",
    "import tensorflow as tf\n",
    "import cv2\n",
    "import matplotlib.pyplot as plt\n",
    "#from tensorflow.keras.applications import ResNet50\n",
    "from tensorflow.keras.applications import EfficientNetB0\n",
    "from tensorflow.keras.preprocessing.image import ImageDataGenerator"
   ]
  },
  {
   "cell_type": "markdown",
   "id": "4e3e675e",
   "metadata": {},
   "source": [
    "### Read Data"
   ]
  },
  {
   "cell_type": "code",
   "execution_count": 26,
   "id": "bace1844",
   "metadata": {},
   "outputs": [
    {
     "data": {
      "text/plain": [
       "['Daisy',\n",
       " 'Dandelion',\n",
       " 'Lavender',\n",
       " 'Lilly',\n",
       " 'Lotus',\n",
       " 'Orchid',\n",
       " 'Rose',\n",
       " 'Sunflower',\n",
       " 'Tulip']"
      ]
     },
     "execution_count": 26,
     "metadata": {},
     "output_type": "execute_result"
    }
   ],
   "source": [
    "flower='D:\\\\flower\\\\flowerdataset'\n",
    "test,train=os.listdir(flower)\n",
    "train_data=[i for i in os.listdir(os.path.join(flower,train))]\n",
    "train_data"
   ]
  },
  {
   "cell_type": "code",
   "execution_count": 4,
   "id": "c30e8ebf",
   "metadata": {},
   "outputs": [],
   "source": [
    "test_classes=[i for i in os.listdir(os.path.join(flower,test))]"
   ]
  },
  {
   "cell_type": "code",
   "execution_count": 69,
   "id": "2c2afbbf",
   "metadata": {},
   "outputs": [],
   "source": [
    "train_dataf=[]\n",
    "labels=[]\n",
    "for index,i in enumerate(train_data):\n",
    "    for img in os.listdir(os.path.join(flower,train,i)):\n",
    "        path=os.path.join(flower,train,i,img)\n",
    "        train_dataf.append(path)\n",
    "        labels.append(index)\n",
    "        "
   ]
  },
  {
   "cell_type": "code",
   "execution_count": 71,
   "id": "0e4ad009",
   "metadata": {},
   "outputs": [],
   "source": [
    "test_data=[]\n",
    "test_label=[]\n",
    "for idx,i in enumerate(train_data):\n",
    "    for img in os.listdir(os.path.join(flower,test,i)):\n",
    "        path=os.path.join(flower,test,i,img)\n",
    "        test_data.append(path)\n",
    "        test_label.append(idx)\n"
   ]
  },
  {
   "cell_type": "markdown",
   "id": "ace8d60c",
   "metadata": {},
   "source": [
    "### Visualize sample of data"
   ]
  },
  {
   "cell_type": "code",
   "execution_count": null,
   "id": "a9d90f2e",
   "metadata": {},
   "outputs": [],
   "source": [
    "import random\n"
   ]
  },
  {
   "cell_type": "code",
   "execution_count": null,
   "id": "f91129bb",
   "metadata": {},
   "outputs": [],
   "source": [
    "fig,axes=plt.subplots(3,3,figsize=(10,10))\n",
    "for idx,i in enumerate(os.listdir(os.path.join(flower,train))):\n",
    "        j=random.randint(1,50)\n",
    "        x=os.listdir(os.path.join(flower,train,i))\n",
    "        im=os.path.join(flower,train,i,x[j])\n",
    "        ax=axes[idx//3,idx%3]\n",
    "        ax.imshow(cv2.imread(im))\n",
    "        ax.set_title(i)\n",
    "        ax.axis(\"off\")\n",
    "plt.tight_layout()\n",
    "plt.show()"
   ]
  },
  {
   "cell_type": "markdown",
   "id": "ee451015",
   "metadata": {},
   "source": [
    "### split data"
   ]
  },
  {
   "cell_type": "code",
   "execution_count": null,
   "id": "0a8fc2df",
   "metadata": {},
   "outputs": [],
   "source": [
    "import numpy as np"
   ]
  },
  {
   "cell_type": "code",
   "execution_count": null,
   "id": "ecd6182b",
   "metadata": {},
   "outputs": [],
   "source": [
    "#final_data=train_dataf"
   ]
  },
  {
   "cell_type": "code",
   "execution_count": null,
   "id": "9767a2b1",
   "metadata": {},
   "outputs": [],
   "source": [
    "#final_data=np.array(train_dataf)"
   ]
  },
  {
   "cell_type": "code",
   "execution_count": 9,
   "id": "30febbb0",
   "metadata": {},
   "outputs": [],
   "source": [
    "#final_data=final_data/255"
   ]
  },
  {
   "cell_type": "code",
   "execution_count": 10,
   "id": "23ea0e31",
   "metadata": {},
   "outputs": [
    {
     "data": {
      "text/plain": [
       "(3600, 224, 224, 3)"
      ]
     },
     "execution_count": 10,
     "metadata": {},
     "output_type": "execute_result"
    }
   ],
   "source": [
    "#final_data.shape"
   ]
  },
  {
   "cell_type": "code",
   "execution_count": 11,
   "id": "277d99ef",
   "metadata": {},
   "outputs": [
    {
     "data": {
      "text/plain": [
       "3600"
      ]
     },
     "execution_count": 11,
     "metadata": {},
     "output_type": "execute_result"
    }
   ],
   "source": [
    "#len(labels)"
   ]
  },
  {
   "cell_type": "code",
   "execution_count": 12,
   "id": "4fe892d2",
   "metadata": {},
   "outputs": [],
   "source": [
    "#labels=np.array(labels)\n"
   ]
  },
  {
   "cell_type": "code",
   "execution_count": 29,
   "id": "6a40c3d0",
   "metadata": {},
   "outputs": [],
   "source": [
    "from sklearn.model_selection import train_test_split\n",
    "xtrain,val_train,xtst,val_tst=train_test_split(train_dataf,labels,test_size=0.3,random_state=42)"
   ]
  },
  {
   "cell_type": "markdown",
   "id": "ec85d554",
   "metadata": {},
   "source": [
    "### Training model"
   ]
  },
  {
   "cell_type": "code",
   "execution_count": 54,
   "id": "bb6081a7",
   "metadata": {},
   "outputs": [
    {
     "name": "stdout",
     "output_type": "stream",
     "text": [
      "Model: \"sequential_5\"\n",
      "_________________________________________________________________\n",
      " Layer (type)                Output Shape              Param #   \n",
      "=================================================================\n",
      " efficientnetb0 (Functional)  (None, 1280)             4049571   \n",
      "                                                                 \n",
      " flatten_6 (Flatten)         (None, 1280)              0         \n",
      "                                                                 \n",
      " dense_11 (Dense)            (None, 512)               655872    \n",
      "                                                                 \n",
      " dropout_1 (Dropout)         (None, 512)               0         \n",
      "                                                                 \n",
      " dense_12 (Dense)            (None, 9)                 4617      \n",
      "                                                                 \n",
      "=================================================================\n",
      "Total params: 4,710,060\n",
      "Trainable params: 660,489\n",
      "Non-trainable params: 4,049,571\n",
      "_________________________________________________________________\n"
     ]
    }
   ],
   "source": [
    "# Create the base model\n",
    "Model = EfficientNetB0(include_top=False, weights='imagenet', input_shape=(224, 224, 3), pooling='avg')\n",
    "\n",
    "# Freeze the layers of the pre-trained model\n",
    "for layer in base_model.layers:\n",
    "    layer.trainable = False\n",
    "\n",
    "# Build a sequential model on top of the pre-trained base model\n",
    "model = keras.Sequential([\n",
    "    Model,\n",
    "    keras.layers.Flatten(),\n",
    "    keras.layers.Dense(512, activation='relu'),\n",
    "    keras.layers.Dropout(0.3),\n",
    "    keras.layers.Dense(len(train_data), activation='softmax')\n",
    "])\n",
    "model.summary()"
   ]
  },
  {
   "cell_type": "code",
   "execution_count": 43,
   "id": "374eef5f",
   "metadata": {},
   "outputs": [
    {
     "name": "stdout",
     "output_type": "stream",
     "text": [
      "Model: \"sequential_4\"\n",
      "_________________________________________________________________\n",
      " Layer (type)                Output Shape              Param #   \n",
      "=================================================================\n",
      " conv2d_8 (Conv2D)           (None, 222, 222, 16)      448       \n",
      "                                                                 \n",
      " max_pooling2d_8 (MaxPooling  (None, 111, 111, 16)     0         \n",
      " 2D)                                                             \n",
      "                                                                 \n",
      " conv2d_9 (Conv2D)           (None, 109, 109, 16)      2320      \n",
      "                                                                 \n",
      " max_pooling2d_9 (MaxPooling  (None, 54, 54, 16)       0         \n",
      " 2D)                                                             \n",
      "                                                                 \n",
      " flatten_4 (Flatten)         (None, 46656)             0         \n",
      "                                                                 \n",
      " dense_8 (Dense)             (None, 10)                466570    \n",
      "                                                                 \n",
      " dense_9 (Dense)             (None, 9)                 99        \n",
      "                                                                 \n",
      "=================================================================\n",
      "Total params: 469,437\n",
      "Trainable params: 469,437\n",
      "Non-trainable params: 0\n",
      "_________________________________________________________________\n"
     ]
    }
   ],
   "source": [
    "# model=keras.Sequential()\n",
    "# model.add(keras.layers.Conv2D(16, kernel_size=(3, 3), activation='relu', input_shape=(224, 224, 3)))\n",
    "# model.add(keras.layers.MaxPooling2D(2, 2))\n",
    "\n",
    "# model.add(keras.layers.Conv2D(16, kernel_size=(3, 3), activation='relu'))\n",
    "# model.add(keras.layers.MaxPooling2D(2, 2))\n",
    "\n",
    "# model.add(keras.layers.Flatten())\n",
    "# model.add(keras.layers.Dense(10, activation='relu'))\n",
    "# model.add(keras.layers.Dense(9, activation='softmax'))\n",
    "\n",
    "# model.summary()"
   ]
  },
  {
   "cell_type": "code",
   "execution_count": 55,
   "id": "11f54eba",
   "metadata": {},
   "outputs": [],
   "source": [
    "x_type=list(map(str,xtst))\n",
    "val_type=list(map(str,val_tst))"
   ]
  },
  {
   "cell_type": "markdown",
   "id": "7745b4a6",
   "metadata": {},
   "source": [
    "### training model"
   ]
  },
  {
   "cell_type": "code",
   "execution_count": 60,
   "id": "83125e02",
   "metadata": {},
   "outputs": [
    {
     "name": "stdout",
     "output_type": "stream",
     "text": [
      "Found 2520 validated image filenames belonging to 9 classes.\n",
      "Found 1080 validated image filenames belonging to 9 classes.\n"
     ]
    }
   ],
   "source": [
    "datagen=ImageDataGenerator(\n",
    "    \n",
    "    rotation_range=10,\n",
    "    width_shift_range=0.3,\n",
    "    height_shift_range=0.3,\n",
    "    #fill_mode='nearset',\n",
    "    horizontal_flip=True,\n",
    "    shear_range=0.3,\n",
    "    zoom_range=0.3\n",
    ")\n",
    "\n",
    "traingen=datagen.flow_from_dataframe(\n",
    "    dataframe=pandas.DataFrame({'img':xtrain,'type':x_type}),\n",
    "    x_col='img'\n",
    "    ,y_col='type',\n",
    "    target_size=(224,224),\n",
    "    class_mode='sparse',\n",
    "    shuffle=False,\n",
    "    batch_size=64,\n",
    ")\n",
    "valgen=datagen.flow_from_dataframe(\n",
    "    dataframe=pandas.DataFrame({'img':val_train,'type':val_type}),\n",
    "     x_col='img'\n",
    "    ,y_col='type',\n",
    "    target_size=(224,224),\n",
    "    class_mode='sparse',\n",
    "    shuffle=False,\n",
    "    batch_size=64,\n",
    ")"
   ]
  },
  {
   "cell_type": "code",
   "execution_count": 61,
   "id": "c95d3b98",
   "metadata": {},
   "outputs": [],
   "source": [
    "model.compile(\n",
    "    optimizer='adam',\n",
    "    loss=tf.keras.losses.SparseCategoricalCrossentropy(from_logits=False),\n",
    "    metrics=['accuracy']\n",
    ")"
   ]
  },
  {
   "cell_type": "code",
   "execution_count": 62,
   "id": "279a5754",
   "metadata": {},
   "outputs": [
    {
     "name": "stdout",
     "output_type": "stream",
     "text": [
      "Epoch 1/12\n",
      "40/40 [==============================] - 80s 2s/step - loss: 1.0138 - accuracy: 0.6687 - val_loss: 0.5897 - val_accuracy: 0.8167\n",
      "Epoch 2/12\n",
      "40/40 [==============================] - 74s 2s/step - loss: 0.4839 - accuracy: 0.8381 - val_loss: 0.5093 - val_accuracy: 0.8315\n",
      "Epoch 3/12\n",
      "40/40 [==============================] - 75s 2s/step - loss: 0.3872 - accuracy: 0.8742 - val_loss: 0.4659 - val_accuracy: 0.8500\n",
      "Epoch 4/12\n",
      "40/40 [==============================] - 75s 2s/step - loss: 0.3198 - accuracy: 0.8952 - val_loss: 0.4053 - val_accuracy: 0.8602\n",
      "Epoch 5/12\n",
      "40/40 [==============================] - 74s 2s/step - loss: 0.2726 - accuracy: 0.9087 - val_loss: 0.4099 - val_accuracy: 0.8676\n",
      "Epoch 6/12\n",
      "40/40 [==============================] - 75s 2s/step - loss: 0.2625 - accuracy: 0.9103 - val_loss: 0.4253 - val_accuracy: 0.8593\n",
      "Epoch 7/12\n",
      "40/40 [==============================] - 75s 2s/step - loss: 0.2298 - accuracy: 0.9234 - val_loss: 0.4573 - val_accuracy: 0.8500\n",
      "Epoch 8/12\n",
      "40/40 [==============================] - 74s 2s/step - loss: 0.2263 - accuracy: 0.9214 - val_loss: 0.3911 - val_accuracy: 0.8759\n",
      "Epoch 9/12\n",
      "40/40 [==============================] - 74s 2s/step - loss: 0.1932 - accuracy: 0.9369 - val_loss: 0.3885 - val_accuracy: 0.8852\n",
      "Epoch 10/12\n",
      "40/40 [==============================] - 74s 2s/step - loss: 0.1822 - accuracy: 0.9413 - val_loss: 0.3980 - val_accuracy: 0.8741\n",
      "Epoch 11/12\n",
      "40/40 [==============================] - 75s 2s/step - loss: 0.1863 - accuracy: 0.9421 - val_loss: 0.4083 - val_accuracy: 0.8722\n",
      "Epoch 12/12\n",
      "40/40 [==============================] - 75s 2s/step - loss: 0.1782 - accuracy: 0.9377 - val_loss: 0.4098 - val_accuracy: 0.8667\n"
     ]
    },
    {
     "data": {
      "text/plain": [
       "<keras.callbacks.History at 0x1f5c915a0d0>"
      ]
     },
     "execution_count": 62,
     "metadata": {},
     "output_type": "execute_result"
    }
   ],
   "source": [
    "model.fit(traingen,verbose=1,\n",
    "    epochs=12,validation_data=valgen)"
   ]
  },
  {
   "cell_type": "code",
   "execution_count": 72,
   "id": "ff7ffb15",
   "metadata": {},
   "outputs": [
    {
     "name": "stdout",
     "output_type": "stream",
     "text": [
      "Found 881 validated image filenames belonging to 9 classes.\n"
     ]
    }
   ],
   "source": [
    "label=list(map(str,test_label))\n",
    "\n",
    "testgen=datagen.flow_from_dataframe(\n",
    "    dataframe=pandas.DataFrame({'img':test_data,'type':label}),\n",
    "    x_col='img'\n",
    "    ,y_col='type',\n",
    "    target_size=(224,224),\n",
    "    class_mode='sparse',\n",
    "    shuffle=False,\n",
    "    batch_size=64,\n",
    ")"
   ]
  },
  {
   "cell_type": "code",
   "execution_count": 73,
   "id": "5ed5540c",
   "metadata": {},
   "outputs": [
    {
     "name": "stdout",
     "output_type": "stream",
     "text": [
      "14/14 [==============================] - 23s 1s/step\n"
     ]
    }
   ],
   "source": [
    "y_pred=model.predict(testgen)"
   ]
  },
  {
   "cell_type": "code",
   "execution_count": 74,
   "id": "34e97166",
   "metadata": {},
   "outputs": [],
   "source": [
    "from sklearn.metrics import confusion_matrix\n",
    "from sklearn.metrics import classification_report"
   ]
  },
  {
   "cell_type": "code",
   "execution_count": 77,
   "id": "087a589d",
   "metadata": {},
   "outputs": [],
   "source": [
    "import numpy as np\n",
    "yf_pred=[]\n",
    "for i in y_pred:\n",
    "    yf_pred.append(np.argmax(i))"
   ]
  },
  {
   "cell_type": "code",
   "execution_count": 79,
   "id": "23b22329",
   "metadata": {},
   "outputs": [
    {
     "data": {
      "text/plain": [
       "array([[79,  3,  1,  2,  1,  0,  0,  0,  0],\n",
       "       [ 6, 90, 92,  0,  0,  0,  0,  0,  1],\n",
       "       [ 1,  0,  1,  3,  0,  0,  6,  0,  2],\n",
       "       [ 0,  0,  0, 73,  4,  1,  2,  0,  6],\n",
       "       [ 0,  0,  1,  7, 89,  0,  0,  0,  8],\n",
       "       [ 1,  0,  1,  7,  3, 87,  1,  1, 10],\n",
       "       [ 0,  0,  0,  2,  2,  1, 86,  0,  6],\n",
       "       [ 3,  7,  4,  0,  0,  0,  1, 99,  1],\n",
       "       [ 2,  0,  0,  6,  1,  0,  4,  0, 66]], dtype=int64)"
      ]
     },
     "execution_count": 79,
     "metadata": {},
     "output_type": "execute_result"
    }
   ],
   "source": [
    "conf_metrix=confusion_matrix(yf_pred,test_label)\n",
    "conf_metrix"
   ]
  },
  {
   "cell_type": "code",
   "execution_count": 80,
   "id": "23b349d0",
   "metadata": {},
   "outputs": [
    {
     "data": {
      "text/plain": [
       "<Axes: >"
      ]
     },
     "execution_count": 80,
     "metadata": {},
     "output_type": "execute_result"
    },
    {
     "data": {
      "image/png": "[encoded data removed]",
      "text/plain": [
       "<Figure size 640x480 with 2 Axes>"
      ]
     },
     "metadata": {},
     "output_type": "display_data"
    }
   ],
   "source": [
    "import seaborn as sns\n",
    "sns.heatmap(conf_metrix,annot=True, xticklabels=train_data, yticklabels=train_data,cmap='Blues')"
   ]
  },
  {
   "cell_type": "code",
   "execution_count": 81,
   "id": "186afd71",
   "metadata": {},
   "outputs": [
    {
     "data": {
      "text/plain": [
       "'D:\\\\flower\\\\flowerdataset\\\\test\\\\Lilly\\\\4e3dd0e535.jpg'"
      ]
     },
     "execution_count": 81,
     "metadata": {},
     "output_type": "execute_result"
    }
   ],
   "source": [
    "imgt=os.path.join('D:\\\\flower\\\\flowerdataset\\\\test',test_classes[3],'4e3dd0e535.jpg')\n",
    "imgt"
   ]
  },
  {
   "cell_type": "code",
   "execution_count": 82,
   "id": "45f2be2f",
   "metadata": {},
   "outputs": [],
   "source": [
    "imgt=cv2.imread(imgt)\n",
    "imgt=cv2.resize(imgt,(224,224))\n",
    "imgt=imgt.reshape(-1,224,224,3)"
   ]
  },
  {
   "cell_type": "code",
   "execution_count": 83,
   "id": "8e8f41d2",
   "metadata": {},
   "outputs": [],
   "source": [
    "def classimg(img):\n",
    "    x=model.predict(img)\n",
    "    n=np.argmax(x)\n",
    "    return f'the img from {test_classes[n]} '"
   ]
  },
  {
   "cell_type": "code",
   "execution_count": 84,
   "id": "6a67c453",
   "metadata": {},
   "outputs": [
    {
     "name": "stdout",
     "output_type": "stream",
     "text": [
      "1/1 [==============================] - 2s 2s/step\n"
     ]
    },
    {
     "data": {
      "text/plain": [
       "'the img from Lilly '"
      ]
     },
     "execution_count": 84,
     "metadata": {},
     "output_type": "execute_result"
    }
   ],
   "source": [
    "classimg(imgt)"
   ]
  },
  {
   "cell_type": "code",
   "execution_count": 86,
   "id": "a6d1579d",
   "metadata": {},
   "outputs": [
    {
     "name": "stdout",
     "output_type": "stream",
     "text": [
      "Classification Report:\n",
      "              precision    recall  f1-score   support\n",
      "\n",
      "       Daisy       0.86      0.92      0.89        86\n",
      "   Dandelion       0.90      0.48      0.62       189\n",
      "    Lavender       0.01      0.08      0.02        13\n",
      "       Lilly       0.73      0.85      0.78        86\n",
      "       Lotus       0.89      0.85      0.87       105\n",
      "      Orchid       0.98      0.78      0.87       111\n",
      "        Rose       0.86      0.89      0.87        97\n",
      "   Sunflower       0.99      0.86      0.92       115\n",
      "       Tulip       0.66      0.84      0.74        79\n",
      "\n",
      "    accuracy                           0.76       881\n",
      "   macro avg       0.76      0.73      0.73       881\n",
      "weighted avg       0.86      0.76      0.79       881\n",
      "\n"
     ]
    }
   ],
   "source": [
    "report = classification_report(yf_pred, test_label, target_names=test_classes)\n",
    "print(\"Classification Report:\")\n",
    "print(report)"
   ]
  },
  {
   "cell_type": "code",
   "execution_count": null,
   "id": "19c1b9dc",
   "metadata": {},
   "outputs": [],
   "source": []
  }
 ],
 "metadata": {
  "kernelspec": {
   "display_name": "Python 3 (ipykernel)",
   "language": "python",
   "name": "python3"
  },
  "language_info": {
   "codemirror_mode": {
    "name": "ipython",
    "version": 3
   },
   "file_extension": ".py",
   "mimetype": "text/x-python",
   "name": "python",
   "nbconvert_exporter": "python",
   "pygments_lexer": "ipython3",
   "version": "3.9.12"
  }
 },
 "nbformat": 4,
 "nbformat_minor": 5
}
